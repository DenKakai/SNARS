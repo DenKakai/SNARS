{
 "cells": [
  {
   "cell_type": "code",
   "execution_count": 1,
   "metadata": {},
   "outputs": [],
   "source": [
    "import networkx as nx\n",
    "import numpy as np\n",
    "from scipy.cluster.hierarchy import linkage, fcluster\n",
    "from scipy.sparse.linalg import eigs\n",
    "from collections import defaultdict\n",
    "import pandas as pd\n",
    "import os\n",
    "import time"
   ]
  },
  {
   "cell_type": "code",
   "execution_count": 2,
   "metadata": {},
   "outputs": [],
   "source": [
    "class Walktrap:\n",
    "    def __init__(self, G, steps=4):\n",
    "        self.G = G\n",
    "        self.steps = steps\n",
    "        self.n = len(G)\n",
    "        self.P = self._get_transition_matrix()\n",
    "        self.P_t = self._get_random_walk_matrix()\n",
    "        \n",
    "    def _get_transition_matrix(self):\n",
    "        A = nx.adjacency_matrix(self.G).toarray()\n",
    "        degrees = np.sum(A, axis=1)\n",
    "        degrees[degrees == 0] = 1  # Avoid division by zero\n",
    "        D_inv = np.diag(1.0 / degrees)\n",
    "        return np.dot(D_inv, A)\n",
    "    \n",
    "    def _get_random_walk_matrix(self):\n",
    "        return np.linalg.matrix_power(self.P, self.steps)\n",
    "    \n",
    "    def _calculate_distance(self, community1, community2):\n",
    "        prob1 = np.mean([self.P_t[i] for i in community1], axis=0)\n",
    "        prob2 = np.mean([self.P_t[i] for i in community2], axis=0)\n",
    "        degrees = np.array([self.G.degree(i) for i in range(self.n)])\n",
    "        degrees[degrees == 0] = 1  # Avoid division by zero\n",
    "        diff = prob1 - prob2\n",
    "        weighted_diff = diff * diff / degrees\n",
    "        return np.sqrt(np.sum(weighted_diff))\n",
    "    \n",
    "    def _prepare_distance_matrix(self):\n",
    "        dist_matrix = np.zeros((self.n, self.n))\n",
    "        for i in range(self.n):\n",
    "            for j in range(i + 1, self.n):\n",
    "                dist = self._calculate_distance({i}, {j})\n",
    "                dist_matrix[i, j] = dist_matrix[j, i] = dist\n",
    "        return dist_matrix\n",
    "    \n",
    "    def detect_communities(self, n_communities=None):\n",
    "        dist_matrix = self._prepare_distance_matrix()\n",
    "        condensed_dist = dist_matrix[np.triu_indices(self.n, k=1)]\n",
    "        Z = linkage(condensed_dist, method='ward')\n",
    "        \n",
    "        if n_communities is None:\n",
    "            n_communities = self._find_optimal_communities(Z)\n",
    "            \n",
    "        labels = fcluster(Z, n_communities, criterion='maxclust') - 1  # Zero-based indexing\n",
    "        \n",
    "        communities = defaultdict(list)\n",
    "        for node, label in enumerate(labels):\n",
    "            if node < self.n:  # Only include actual nodes\n",
    "                communities[label].append(node)\n",
    "                \n",
    "        return dict(communities)\n",
    "    \n",
    "    def _find_optimal_communities(self, Z):\n",
    "        best_modularity = -1\n",
    "        best_n = 1\n",
    "        \n",
    "        for n in range(2, min(11, self.n)):\n",
    "            labels = fcluster(Z, n, criterion='maxclust')\n",
    "            modularity = self._calculate_modularity(labels)\n",
    "            \n",
    "            if modularity > best_modularity:\n",
    "                best_modularity = modularity\n",
    "                best_n = n\n",
    "                \n",
    "        return best_n\n",
    "    \n",
    "    def _calculate_modularity(self, labels):\n",
    "        m = self.G.number_of_edges()\n",
    "        if m == 0:\n",
    "            return 0\n",
    "            \n",
    "        Q = 0\n",
    "        for i in range(self.n):\n",
    "            for j in range(self.n):\n",
    "                if labels[i] == labels[j]:\n",
    "                    A_ij = 1 if self.G.has_edge(i, j) else 0\n",
    "                    k_i = self.G.degree(i)\n",
    "                    k_j = self.G.degree(j)\n",
    "                    Q += A_ij - (k_i * k_j) / (2 * m)\n",
    "                    \n",
    "        return Q / (2 * m)"
   ]
  },
  {
   "cell_type": "code",
   "execution_count": 3,
   "metadata": {},
   "outputs": [],
   "source": [
    "def load_adjacency_matrix(csv_path):\n",
    "    adj_matrix = pd.read_csv(csv_path, header=None).values\n",
    "    G = nx.from_numpy_array(adj_matrix)\n",
    "    return G"
   ]
  },
  {
   "cell_type": "code",
   "execution_count": 4,
   "metadata": {},
   "outputs": [],
   "source": [
    "def save_results(communities, output_path):\n",
    "    result_dict = {}\n",
    "    with open(output_path, 'w') as f:\n",
    "        for i, community in enumerate(communities.values()):\n",
    "            for comm in community:\n",
    "                result_dict[comm] = i\n",
    "\n",
    "        result_dict = dict(sorted(result_dict.items()))\n",
    "        for key, value in result_dict.items():\n",
    "            f.write(str(key + 1) + ', ' + str(value + 1) + '\\n')"
   ]
  },
  {
   "cell_type": "markdown",
   "metadata": {},
   "source": [
    "## Unknown communities"
   ]
  },
  {
   "cell_type": "code",
   "execution_count": 5,
   "metadata": {},
   "outputs": [
    {
     "name": "stdout",
     "output_type": "stream",
     "text": [
      "['D1-UNC.csv', 'D2-UNC.csv', 'D3-UNC.csv']\n",
      "D1-UNC.csv 1.0126221179962158\n",
      "D2-UNC.csv 1.5530200004577637\n",
      "D3-UNC.csv 0.3162250518798828\n"
     ]
    }
   ],
   "source": [
    "data_folder = 'data_unc'\n",
    "files = os.listdir(data_folder)\n",
    "print(files)\n",
    "\n",
    "for file in files:\n",
    "    G = load_adjacency_matrix(data_folder + '/' + file)\n",
    "    \n",
    "    start_time = time.time()\n",
    "    walktrap = Walktrap(G, steps=10)\n",
    "    communities = walktrap.detect_communities()\n",
    "    print(file, time.time() - start_time)\n",
    "    \n",
    "    save_results(communities, 'results/' + file)"
   ]
  },
  {
   "cell_type": "markdown",
   "metadata": {},
   "source": [
    "## Known communities"
   ]
  },
  {
   "cell_type": "code",
   "execution_count": 6,
   "metadata": {},
   "outputs": [
    {
     "name": "stdout",
     "output_type": "stream",
     "text": [
      "['D1-K=2.csv', 'D2-K=7.csv', 'D3-K=12.csv']\n",
      "D1-K=2.csv 0.04101157188415527\n",
      "D2-K=7.csv 0.17496609687805176\n",
      "D3-K=12.csv 0.6961531639099121\n"
     ]
    }
   ],
   "source": [
    "data_folder = 'data'\n",
    "files = os.listdir(data_folder)\n",
    "print(files)\n",
    "\n",
    "for file in files:\n",
    "\n",
    "    G = load_adjacency_matrix(data_folder + '/' + file)\n",
    "    \n",
    "    start_time = time.time()\n",
    "    walktrap = Walktrap(G, steps=10)\n",
    "    communities = walktrap.detect_communities(int(file[file.find('=') + 1:file.find('.')]))\n",
    "    print(file, time.time() - start_time)\n",
    "    \n",
    "    save_results(communities, 'results/' + file)"
   ]
  }
 ],
 "metadata": {
  "kernelspec": {
   "display_name": "Python 3",
   "language": "python",
   "name": "python3"
  },
  "language_info": {
   "codemirror_mode": {
    "name": "ipython",
    "version": 3
   },
   "file_extension": ".py",
   "mimetype": "text/x-python",
   "name": "python",
   "nbconvert_exporter": "python",
   "pygments_lexer": "ipython3",
   "version": "3.9.10"
  }
 },
 "nbformat": 4,
 "nbformat_minor": 2
}
